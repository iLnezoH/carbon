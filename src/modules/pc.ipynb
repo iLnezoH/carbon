{
 "cells": [
  {
   "cell_type": "code",
   "execution_count": 206,
   "metadata": {},
   "outputs": [],
   "source": [
    "import numpy as np\n",
    "from functools import reduce\n",
    "from scipy import integrate\n"
   ]
  },
  {
   "cell_type": "code",
   "execution_count": 207,
   "metadata": {},
   "outputs": [],
   "source": [
    "def symbolic(v):\n",
    "    if v == 0:\n",
    "        return '→'\n",
    "    if v < 0:\n",
    "        return '↘'\n",
    "    if v > 0:\n",
    "        return '↗'\n",
    "\n",
    "\n",
    "def get_symbolic_ind(x):\n",
    "    return int(reduce(lambda x, y: x + 3 ** y[0] * (y[1] + 1),\n",
    "                      enumerate(x), 0))\n"
   ]
  },
  {
   "cell_type": "code",
   "execution_count": 208,
   "metadata": {},
   "outputs": [
    {
     "data": {
      "text/plain": [
       "8"
      ]
     },
     "execution_count": 208,
     "metadata": {},
     "output_type": "execute_result"
    }
   ],
   "source": [
    "get_symbolic_ind([1, 1])\n"
   ]
  },
  {
   "cell_type": "code",
   "execution_count": 209,
   "metadata": {},
   "outputs": [],
   "source": [
    "def retrieve_shadow_attractor(X, E, tau):\n",
    "    l = X.shape[0] - (E - 1) * tau\n",
    "    mx = np.empty((E, l))\n",
    "    for i in range(E):\n",
    "        mx[E - i - 1] = X[i * tau: i * tau + l]\n",
    "        # mx[i] = X[i * tau: i * tau + l]\n",
    "\n",
    "    return mx.T\n"
   ]
  },
  {
   "cell_type": "code",
   "execution_count": 210,
   "metadata": {},
   "outputs": [],
   "source": [
    "def get_rate(mx, E):\n",
    "    rate = np.empty((mx.shape[0], E - 1))\n",
    "    for i in range(1, E):\n",
    "        rate[:, i - 1] = mx[:, i] / mx[:, i-1] - 1\n",
    "\n",
    "    return rate\n"
   ]
  },
  {
   "cell_type": "code",
   "execution_count": 211,
   "metadata": {},
   "outputs": [],
   "source": [
    "def get_dist(mx, E, p=2):\n",
    "    l = mx.shape[0]\n",
    "    dist = np.empty((l, l))\n",
    "    dist.fill(float('inf'))\n",
    "    for i in range(l):\n",
    "        for j in range(i + 1, l):\n",
    "            dist[i, j] = np.linalg.norm(mx[i] - mx[j], ord=p)\n",
    "            dist[j, i] = dist[i, j]\n",
    "\n",
    "    return dist\n"
   ]
  },
  {
   "cell_type": "code",
   "execution_count": 212,
   "metadata": {},
   "outputs": [],
   "source": [
    "def get_nn_weight(dist, no):\n",
    "    nn_dist = np.sort(dist, axis=1)[:, :no]\n",
    "    nn_index = np.argsort(dist, axis=1)[:, : no]\n",
    "    nn_w = np.empty(nn_dist.shape)\n",
    "\n",
    "    for i in range(nn_w.shape[0]):\n",
    "        row = nn_dist[i]\n",
    "        e_row = np.exp(np.max(row) - row)\n",
    "        nn_w[i] = e_row / np.sum(e_row)\n",
    "\n",
    "    return nn_w, nn_index\n"
   ]
  },
  {
   "cell_type": "code",
   "execution_count": 213,
   "metadata": {},
   "outputs": [],
   "source": [
    "def get_signature(nn_w, rate):\n",
    "    nn_w, indexes = nn_w\n",
    "    l = nn_w.shape[0]\n",
    "    step = rate.shape[1]\n",
    "    S = np.empty((l, step))\n",
    "    for t in range(l):\n",
    "        S[t] = np.dot(nn_w[t], rate[indexes[t]])\n",
    "\n",
    "    _S = np.empty(S.shape)\n",
    "    _S[S > 0] = 1\n",
    "    _S[S < 0] = -1\n",
    "    _S[S == 0] = 0\n",
    "\n",
    "    return S, _S\n"
   ]
  },
  {
   "cell_type": "code",
   "execution_count": 214,
   "metadata": {},
   "outputs": [],
   "source": [
    "def get_accuracy(X, Y_hat, Y, E):\n",
    "    n = 3**(E - 1)\n",
    "    hit = np.zeros((n, n))\n",
    "    all = np.zeros((n, n))\n",
    "    right_ind = np.logical_and.reduce((Y_hat == Y).T)\n",
    "    for i in range(X.shape[0]):\n",
    "\n",
    "        x_ind = get_symbolic_ind(X[i])\n",
    "        y_ind = get_symbolic_ind(Y[i])\n",
    "\n",
    "        all[x_ind, y_ind] += 1\n",
    "\n",
    "        if right_ind[i]:\n",
    "            hit[x_ind, y_ind] += 1\n",
    "\n",
    "    '''\n",
    "    accuracy = np.zeros(all.shape)\n",
    "    for i in range(all.shape[0]):\n",
    "        for j in range(all.shape[1]):\n",
    "            if all[i, j] > 0:\n",
    "                accuracy[i, j] = hit[i, j] / all[i, j]\n",
    "            # else:\n",
    "                # accuracy[i, j] = -1\n",
    "    '''\n",
    "\n",
    "    # return accuracy\n",
    "    return hit, all\n"
   ]
  },
  {
   "cell_type": "code",
   "execution_count": 215,
   "metadata": {},
   "outputs": [],
   "source": [
    "def get_pc_matrix(S_X, S_Y, E, p):\n",
    "    Xv, Xp = S_X\n",
    "    Yv, Yp = S_Y\n",
    "\n",
    "    n = 3 ** (E - 1)\n",
    "    pc_m = np.zeros((n, n))\n",
    "\n",
    "    def erf(x0, x1):\n",
    "        return integrate.quad(lambda x: np.e ** (- x ** 2), x0, x1)[0] / np.pi ** (1/2)\n",
    "\n",
    "    for i in range(Xv.shape[0]):\n",
    "        x_ind = get_symbolic_ind(Xp[i])\n",
    "        y_ind = get_symbolic_ind(Yp[i])\n",
    "\n",
    "        r = np.linalg.norm(Yv[i], ord=p) / np.linalg.norm(Xv[i], ord=p)\n",
    "\n",
    "        pc_m[x_ind, y_ind] += erf(-r, r)\n",
    "\n",
    "    return pc_m\n"
   ]
  },
  {
   "cell_type": "code",
   "execution_count": 216,
   "metadata": {},
   "outputs": [],
   "source": [
    "def extract_casuality(m, mL):\n",
    "    positive = 0\n",
    "    negative = 0\n",
    "    dark = 0\n",
    "    l = m.shape[0]\n",
    "    for i in range(l):\n",
    "        for j in range(l):\n",
    "            if i == j:\n",
    "                positive += m[i, j]\n",
    "            elif i + j == l - 1:\n",
    "                negative += m[i, j]\n",
    "            else:\n",
    "                dark += m[i, j]\n",
    "\n",
    "    return positive / mL, negative / mL, dark / mL\n"
   ]
  },
  {
   "cell_type": "code",
   "execution_count": 217,
   "metadata": {},
   "outputs": [],
   "source": [
    "def PC(X, Y, E, tau, no=None, p=2):\n",
    "\n",
    "    if no is None:\n",
    "        no = E + 1\n",
    "    mx = retrieve_shadow_attractor(X, E=E, tau=tau)\n",
    "    my = retrieve_shadow_attractor(Y, E=E, tau=tau)\n",
    "\n",
    "    rate_x = get_rate(mx, E=E)\n",
    "    rate_y = get_rate(my, E=E)\n",
    "\n",
    "    dist_x = get_dist(mx, E=E, p=p)\n",
    "    dist_y = get_dist(my, E=E, p=p)\n",
    "\n",
    "    nn_w_x = get_nn_weight(dist_x, no=no)\n",
    "    nn_w_y = get_nn_weight(dist_y, no=no)\n",
    "\n",
    "    S_X = get_signature(nn_w_x, rate_x)\n",
    "    S_Y = get_signature(nn_w_y, rate_y)\n",
    "\n",
    "    # S_X_hat = get_signature(nn_w_y, rate_x)\n",
    "    # S_Y_hat = get_signature(nn_w_x, rate_y)\n",
    "\n",
    "    # X_Y_acc = get_accuracy(S_Y[1], S_X_hat[1], S_X[1], E=E)\n",
    "    # Y_X_acc = get_accuracy(S_X[1], S_Y_hat[1], S_Y[1], E=E)\n",
    "\n",
    "    X_Y_pc = get_pc_matrix(S_X, S_Y, E=E, p=p)\n",
    "    Y_X_pc = get_pc_matrix(S_Y, S_X, E=E, p=p)\n",
    "\n",
    "    mL = S_X[0].shape[0]\n",
    "\n",
    "    return extract_casuality(X_Y_pc, mL), extract_casuality(Y_X_pc, mL)\n"
   ]
  },
  {
   "cell_type": "code",
   "execution_count": 218,
   "metadata": {},
   "outputs": [],
   "source": [
    "# data = np.loadtxt('mock/mutualism.csv', delimiter=',')\n",
    "data = np.loadtxt('mock/test.csv', delimiter=',')\n",
    "data.shape\n",
    "X = data[0]\n",
    "Y = data[1]\n",
    "E = 3\n",
    "tau = 1\n"
   ]
  },
  {
   "cell_type": "code",
   "execution_count": 219,
   "metadata": {},
   "outputs": [
    {
     "data": {
      "text/plain": [
       "((0.49214610179077906, 0.0, 0.31552041025886673),\n",
       " (0.5457575643816364, 0.0, 0.27084313284834993))"
      ]
     },
     "execution_count": 219,
     "metadata": {},
     "output_type": "execute_result"
    }
   ],
   "source": [
    "PC(X, Y, E=E, tau=tau, p=1)\n"
   ]
  }
 ],
 "metadata": {
  "interpreter": {
   "hash": "31f2aee4e71d21fbe5cf8b01ff0e069b9275f58929596ceb00d14d90e3e16cd6"
  },
  "kernelspec": {
   "display_name": "Python 3.8.9 64-bit",
   "language": "python",
   "name": "python3"
  },
  "language_info": {
   "codemirror_mode": {
    "name": "ipython",
    "version": 3
   },
   "file_extension": ".py",
   "mimetype": "text/x-python",
   "name": "python",
   "nbconvert_exporter": "python",
   "pygments_lexer": "ipython3",
   "version": "3.8.9"
  },
  "orig_nbformat": 4
 },
 "nbformat": 4,
 "nbformat_minor": 2
}
