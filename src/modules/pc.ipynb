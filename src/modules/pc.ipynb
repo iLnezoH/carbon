{
 "cells": [
  {
   "cell_type": "code",
   "execution_count": 122,
   "metadata": {},
   "outputs": [],
   "source": [
    "import numpy as np"
   ]
  },
  {
   "cell_type": "code",
   "execution_count": 123,
   "metadata": {},
   "outputs": [],
   "source": [
    "E = 3\n",
    "tau = 1"
   ]
  },
  {
   "cell_type": "code",
   "execution_count": 124,
   "metadata": {},
   "outputs": [],
   "source": [
    "x = np.array([1,2,3,4,5,6,7])"
   ]
  },
  {
   "cell_type": "code",
   "execution_count": 125,
   "metadata": {},
   "outputs": [
    {
     "data": {
      "text/plain": [
       "7"
      ]
     },
     "execution_count": 125,
     "metadata": {},
     "output_type": "execute_result"
    }
   ],
   "source": [
    "x.size"
   ]
  },
  {
   "cell_type": "code",
   "execution_count": 126,
   "metadata": {},
   "outputs": [],
   "source": [
    "def retrieve_shadow_attractor(X, E=E):\n",
    "    l = X.shape[0] - E + 1\n",
    "    mx = np.empty((E, l))\n",
    "    for i in range(E):\n",
    "        # mx[E - i - 1] = X[i: i+l]\n",
    "        mx[i] = X[i: i+l]\n",
    "\n",
    "    return mx.T\n"
   ]
  },
  {
   "cell_type": "code",
   "execution_count": 127,
   "metadata": {},
   "outputs": [
    {
     "name": "stdout",
     "output_type": "stream",
     "text": [
      "[[1. 2. 3.]\n",
      " [2. 3. 4.]\n",
      " [3. 4. 5.]\n",
      " [4. 5. 6.]\n",
      " [5. 6. 7.]]\n"
     ]
    }
   ],
   "source": [
    "mx = retrieve_shadow_attractor(x)\n",
    "print(mx)"
   ]
  },
  {
   "cell_type": "code",
   "execution_count": 128,
   "metadata": {},
   "outputs": [],
   "source": [
    "def get_rate(mx, E=E):\n",
    "    rate = np.empty((mx.shape[0], E - 1))\n",
    "    for i in range(1, E):\n",
    "        rate[:, i - 1] = mx[:, i] / mx[:, i-1] - 1\n",
    "\n",
    "    return rate\n"
   ]
  },
  {
   "cell_type": "code",
   "execution_count": 129,
   "metadata": {},
   "outputs": [
    {
     "name": "stdout",
     "output_type": "stream",
     "text": [
      "[[1.         0.5       ]\n",
      " [0.5        0.33333333]\n",
      " [0.33333333 0.25      ]\n",
      " [0.25       0.2       ]\n",
      " [0.2        0.16666667]]\n"
     ]
    }
   ],
   "source": [
    "rate = get_rate(mx)\n",
    "print(rate)"
   ]
  },
  {
   "cell_type": "code",
   "execution_count": 130,
   "metadata": {},
   "outputs": [],
   "source": [
    "def get_dist(mx, E=E):\n",
    "    l = mx.shape[0]\n",
    "    dist = np.empty((l, l))\n",
    "    dist.fill(float('inf'))\n",
    "    for i in range(l):\n",
    "        for j in range(i + 1, l):\n",
    "            dist[i, j] = np.linalg.norm(mx[i] - mx[j])\n",
    "            dist[j, i] = dist[i, j]\n",
    "\n",
    "    return dist\n"
   ]
  },
  {
   "cell_type": "code",
   "execution_count": 131,
   "metadata": {},
   "outputs": [
    {
     "name": "stdout",
     "output_type": "stream",
     "text": [
      "[[       inf 1.73205081 3.46410162 5.19615242 6.92820323]\n",
      " [1.73205081        inf 1.73205081 3.46410162 5.19615242]\n",
      " [3.46410162 1.73205081        inf 1.73205081 3.46410162]\n",
      " [5.19615242 3.46410162 1.73205081        inf 1.73205081]\n",
      " [6.92820323 5.19615242 3.46410162 1.73205081        inf]]\n"
     ]
    }
   ],
   "source": [
    "dist = get_dist(mx)\n",
    "print(dist)"
   ]
  },
  {
   "cell_type": "code",
   "execution_count": 132,
   "metadata": {},
   "outputs": [],
   "source": [
    "def get_nn_weight(dist, no=E+1):\n",
    "    nn_dist = np.sort(dist, axis=1)[:, :no]\n",
    "    nn_index = np.argsort(dist, axis=1)[:, : no]\n",
    "    nn_w = np.empty(nn_dist.shape)\n",
    "\n",
    "    for i in range(nn_w.shape[0]):\n",
    "        row = nn_dist[i]\n",
    "        e_row = np.exp(np.max(row) - row)\n",
    "        nn_w[i] = e_row / np.sum(e_row)\n",
    "\n",
    "    return nn_w, nn_index\n"
   ]
  },
  {
   "cell_type": "code",
   "execution_count": 133,
   "metadata": {},
   "outputs": [
    {
     "name": "stdout",
     "output_type": "stream",
     "text": [
      "[[0.823886   0.14576291 0.02578855 0.00456254]\n",
      " [0.45285295 0.45285295 0.08011929 0.0141748 ]\n",
      " [0.42483728 0.42483728 0.07516272 0.07516272]\n",
      " [0.45285295 0.45285295 0.08011929 0.0141748 ]\n",
      " [0.823886   0.14576291 0.02578855 0.00456254]] [[1 2 3 4]\n",
      " [0 2 3 4]\n",
      " [1 3 0 4]\n",
      " [2 4 1 0]\n",
      " [3 2 1 0]]\n"
     ]
    }
   ],
   "source": [
    "nn_w, nn_index = get_nn_weight(dist)\n",
    "print(nn_w, nn_index)"
   ]
  },
  {
   "cell_type": "code",
   "execution_count": 134,
   "metadata": {},
   "outputs": [],
   "source": [
    "def get_signature(nn_w, rate, indexes):\n",
    "    l = nn_w.shape[0]\n",
    "    step = rate.shape[1]\n",
    "    S = np.empty((l, step))\n",
    "    for t in range(l):\n",
    "        S[t] = np.dot(nn_w[t], rate[indexes[t]])\n",
    "    \n",
    "    return S\n"
   ]
  },
  {
   "cell_type": "code",
   "execution_count": 135,
   "metadata": {},
   "outputs": [
    {
     "data": {
      "text/plain": [
       "array([[0.46789028, 0.31698753],\n",
       "       [0.62666872, 0.35802604],\n",
       "       [0.40882323, 0.27668836],\n",
       "       [0.29575602, 0.22248256],\n",
       "       [0.27201595, 0.21209538]])"
      ]
     },
     "execution_count": 135,
     "metadata": {},
     "output_type": "execute_result"
    }
   ],
   "source": [
    "get_signature(nn_w, rate, nn_index)"
   ]
  },
  {
   "cell_type": "code",
   "execution_count": null,
   "metadata": {},
   "outputs": [],
   "source": []
  },
  {
   "cell_type": "code",
   "execution_count": null,
   "metadata": {},
   "outputs": [],
   "source": []
  }
 ],
 "metadata": {
  "interpreter": {
   "hash": "31f2aee4e71d21fbe5cf8b01ff0e069b9275f58929596ceb00d14d90e3e16cd6"
  },
  "kernelspec": {
   "display_name": "Python 3.8.9 64-bit",
   "language": "python",
   "name": "python3"
  },
  "language_info": {
   "codemirror_mode": {
    "name": "ipython",
    "version": 3
   },
   "file_extension": ".py",
   "mimetype": "text/x-python",
   "name": "python",
   "nbconvert_exporter": "python",
   "pygments_lexer": "ipython3",
   "version": "3.8.9"
  },
  "orig_nbformat": 4
 },
 "nbformat": 4,
 "nbformat_minor": 2
}
